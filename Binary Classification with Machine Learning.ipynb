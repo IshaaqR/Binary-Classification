{
 "cells": [
  {
   "cell_type": "markdown",
   "id": "1ba9b396",
   "metadata": {},
   "source": [
    "# Task: Binary Prediction\n",
    "Given a training set of 9,000 samples and 205 features, we must build a model to classify the dataset as best as possible. The steps for this task consist of:\n",
    "1. [Data Preparation](#data_preparation)\n",
    "    1. [Reading File Contents](#reading)\n",
    "    2. [Imputing Missing Values](#imputing)\n",
    "    3. [Selecting Features Based on Correlation](#correlation)\n",
    "    4. [Selecting Features Based on P-Value](#p-value)\n",
    "2. [Building the Model](#building)\n",
    "    1. [Training on Data](#training)\n",
    "    2. [Calculating Accuracy](#accuracy)"
   ]
  },
  {
   "cell_type": "code",
   "execution_count": 1,
   "id": "18b17c50",
   "metadata": {},
   "outputs": [],
   "source": [
    "import string\n",
    "import pandas as pd\n",
    "import numpy as np\n",
    "import seaborn as sns\n",
    "import matplotlib.pyplot as plt\n",
    "import statsmodels.api as sm\n",
    "from sklearn.model_selection import train_test_split\n",
    "from sklearn.ensemble import RandomForestRegressor\n",
    "from sklearn.impute import SimpleImputer"
   ]
  },
  {
   "cell_type": "code",
   "execution_count": 2,
   "id": "832cfff5",
   "metadata": {},
   "outputs": [],
   "source": [
    "# Set random seed in order to ensure reproducibility of results\n",
    "np.random.seed(123)"
   ]
  },
  {
   "cell_type": "markdown",
   "id": "541c2461",
   "metadata": {},
   "source": [
    "<a id='data_preparation'></a>\n",
    "## Data Preparation\n",
    "This includes reading file contents, imputing missing values, and feature selection."
   ]
  },
  {
   "cell_type": "markdown",
   "id": "f1b4437b",
   "metadata": {},
   "source": [
    "<a id='reading'></a>\n",
    "### Reading file contents\n",
    "We are given two files:\n",
    "- attr.txt, which consists of features (attributes), their ranges, and whether they are discrete(categorical) or continuous(numerical)\n",
    "- data.txt, which consists of labelled samples"
   ]
  },
  {
   "cell_type": "code",
   "execution_count": 3,
   "id": "aebc7919",
   "metadata": {},
   "outputs": [],
   "source": [
    "# Checks whether the feature is discrete(categorical) or continuous(numerical)\n",
    "# If a feature name begins with \"C\" it is continuous, and if it begins with \"D\" it is discrete\n",
    "def attr_type(attr_name):\n",
    "    return attr_name[0]"
   ]
  },
  {
   "cell_type": "code",
   "execution_count": 4,
   "id": "1e2fa00d",
   "metadata": {},
   "outputs": [],
   "source": [
    "# Read in file paths and define variables to store file data\n",
    "attr_file_path = 'attr.txt'\n",
    "training_file_path = 'data.txt'\n",
    "attr_names = []\n",
    "train_dict = dict()"
   ]
  },
  {
   "cell_type": "code",
   "execution_count": 5,
   "id": "5a9f6e17",
   "metadata": {},
   "outputs": [],
   "source": [
    "# Read in features\n",
    "with open(attr_file_path) as f:\n",
    "    for line in f:\n",
    "        line_wo_space = line.translate({ord(c): None for c in string.whitespace})\n",
    "        if line_wo_space != '':\n",
    "            attr_name = line_wo_space.split(':')[0]\n",
    "            attr_names.append(attr_name)\n",
    "            train_dict[attr_name] = list()"
   ]
  },
  {
   "cell_type": "code",
   "execution_count": 6,
   "id": "0695baf7",
   "metadata": {
    "scrolled": false
   },
   "outputs": [
    {
     "data": {
      "text/html": [
       "<div>\n",
       "<style scoped>\n",
       "    .dataframe tbody tr th:only-of-type {\n",
       "        vertical-align: middle;\n",
       "    }\n",
       "\n",
       "    .dataframe tbody tr th {\n",
       "        vertical-align: top;\n",
       "    }\n",
       "\n",
       "    .dataframe thead th {\n",
       "        text-align: right;\n",
       "    }\n",
       "</style>\n",
       "<table border=\"1\" class=\"dataframe\">\n",
       "  <thead>\n",
       "    <tr style=\"text-align: right;\">\n",
       "      <th></th>\n",
       "      <th>C1</th>\n",
       "      <th>C2</th>\n",
       "      <th>D1</th>\n",
       "      <th>C3</th>\n",
       "      <th>C4</th>\n",
       "      <th>D2</th>\n",
       "      <th>D3</th>\n",
       "      <th>D4</th>\n",
       "      <th>D5</th>\n",
       "      <th>D6</th>\n",
       "      <th>...</th>\n",
       "      <th>C143</th>\n",
       "      <th>C144</th>\n",
       "      <th>C145</th>\n",
       "      <th>C146</th>\n",
       "      <th>C147</th>\n",
       "      <th>C148</th>\n",
       "      <th>C149</th>\n",
       "      <th>C150</th>\n",
       "      <th>C151</th>\n",
       "      <th>class</th>\n",
       "    </tr>\n",
       "  </thead>\n",
       "  <tbody>\n",
       "    <tr>\n",
       "      <th>0</th>\n",
       "      <td>2002.0</td>\n",
       "      <td>79.0</td>\n",
       "      <td>4.0</td>\n",
       "      <td>40.9431</td>\n",
       "      <td>-74.0035</td>\n",
       "      <td>0.0</td>\n",
       "      <td>1.0</td>\n",
       "      <td>1.0</td>\n",
       "      <td>0.0</td>\n",
       "      <td>0.0</td>\n",
       "      <td>...</td>\n",
       "      <td>2.0</td>\n",
       "      <td>2.0</td>\n",
       "      <td>1.0</td>\n",
       "      <td>1.0</td>\n",
       "      <td>1.0</td>\n",
       "      <td>2.0</td>\n",
       "      <td>1.0</td>\n",
       "      <td>3.0</td>\n",
       "      <td>3.0</td>\n",
       "      <td>0</td>\n",
       "    </tr>\n",
       "    <tr>\n",
       "      <th>1</th>\n",
       "      <td>2004.0</td>\n",
       "      <td>105.0</td>\n",
       "      <td>4.0</td>\n",
       "      <td>39.8810</td>\n",
       "      <td>-74.9721</td>\n",
       "      <td>0.0</td>\n",
       "      <td>1.0</td>\n",
       "      <td>1.0</td>\n",
       "      <td>0.0</td>\n",
       "      <td>0.0</td>\n",
       "      <td>...</td>\n",
       "      <td>2.0</td>\n",
       "      <td>2.0</td>\n",
       "      <td>1.0</td>\n",
       "      <td>1.0</td>\n",
       "      <td>1.0</td>\n",
       "      <td>2.0</td>\n",
       "      <td>1.0</td>\n",
       "      <td>3.0</td>\n",
       "      <td>3.0</td>\n",
       "      <td>0</td>\n",
       "    </tr>\n",
       "    <tr>\n",
       "      <th>2</th>\n",
       "      <td>1999.0</td>\n",
       "      <td>48.0</td>\n",
       "      <td>2.0</td>\n",
       "      <td>40.6725</td>\n",
       "      <td>-73.7503</td>\n",
       "      <td>1.0</td>\n",
       "      <td>0.0</td>\n",
       "      <td>0.0</td>\n",
       "      <td>0.0</td>\n",
       "      <td>0.0</td>\n",
       "      <td>...</td>\n",
       "      <td>2.0</td>\n",
       "      <td>2.0</td>\n",
       "      <td>2.0</td>\n",
       "      <td>1.0</td>\n",
       "      <td>1.0</td>\n",
       "      <td>2.0</td>\n",
       "      <td>1.0</td>\n",
       "      <td>3.0</td>\n",
       "      <td>3.0</td>\n",
       "      <td>0</td>\n",
       "    </tr>\n",
       "    <tr>\n",
       "      <th>3</th>\n",
       "      <td>1996.0</td>\n",
       "      <td>9.0</td>\n",
       "      <td>2.0</td>\n",
       "      <td>42.1694</td>\n",
       "      <td>-70.9469</td>\n",
       "      <td>0.0</td>\n",
       "      <td>1.0</td>\n",
       "      <td>0.0</td>\n",
       "      <td>0.0</td>\n",
       "      <td>0.0</td>\n",
       "      <td>...</td>\n",
       "      <td>2.0</td>\n",
       "      <td>3.0</td>\n",
       "      <td>2.0</td>\n",
       "      <td>2.0</td>\n",
       "      <td>2.0</td>\n",
       "      <td>2.0</td>\n",
       "      <td>2.0</td>\n",
       "      <td>3.0</td>\n",
       "      <td>4.0</td>\n",
       "      <td>0</td>\n",
       "    </tr>\n",
       "    <tr>\n",
       "      <th>4</th>\n",
       "      <td>1994.0</td>\n",
       "      <td>78.0</td>\n",
       "      <td>2.0</td>\n",
       "      <td>38.7379</td>\n",
       "      <td>-76.6517</td>\n",
       "      <td>0.0</td>\n",
       "      <td>1.0</td>\n",
       "      <td>0.0</td>\n",
       "      <td>0.0</td>\n",
       "      <td>0.0</td>\n",
       "      <td>...</td>\n",
       "      <td>2.0</td>\n",
       "      <td>2.0</td>\n",
       "      <td>1.0</td>\n",
       "      <td>1.0</td>\n",
       "      <td>1.0</td>\n",
       "      <td>2.0</td>\n",
       "      <td>1.0</td>\n",
       "      <td>4.0</td>\n",
       "      <td>4.0</td>\n",
       "      <td>1</td>\n",
       "    </tr>\n",
       "  </tbody>\n",
       "</table>\n",
       "<p>5 rows × 206 columns</p>\n",
       "</div>"
      ],
      "text/plain": [
       "       C1     C2   D1       C3       C4   D2   D3   D4   D5   D6  ...  C143  \\\n",
       "0  2002.0   79.0  4.0  40.9431 -74.0035  0.0  1.0  1.0  0.0  0.0  ...   2.0   \n",
       "1  2004.0  105.0  4.0  39.8810 -74.9721  0.0  1.0  1.0  0.0  0.0  ...   2.0   \n",
       "2  1999.0   48.0  2.0  40.6725 -73.7503  1.0  0.0  0.0  0.0  0.0  ...   2.0   \n",
       "3  1996.0    9.0  2.0  42.1694 -70.9469  0.0  1.0  0.0  0.0  0.0  ...   2.0   \n",
       "4  1994.0   78.0  2.0  38.7379 -76.6517  0.0  1.0  0.0  0.0  0.0  ...   2.0   \n",
       "\n",
       "   C144  C145  C146  C147  C148  C149  C150  C151  class  \n",
       "0   2.0   1.0   1.0   1.0   2.0   1.0   3.0   3.0      0  \n",
       "1   2.0   1.0   1.0   1.0   2.0   1.0   3.0   3.0      0  \n",
       "2   2.0   2.0   1.0   1.0   2.0   1.0   3.0   3.0      0  \n",
       "3   3.0   2.0   2.0   2.0   2.0   2.0   3.0   4.0      0  \n",
       "4   2.0   1.0   1.0   1.0   2.0   1.0   4.0   4.0      1  \n",
       "\n",
       "[5 rows x 206 columns]"
      ]
     },
     "execution_count": 6,
     "metadata": {},
     "output_type": "execute_result"
    }
   ],
   "source": [
    "# Read in samples\n",
    "with open(training_file_path) as f:\n",
    "    for line in f:\n",
    "        if line.translate({ord(c): None for c in string.whitespace}) != '':\n",
    "            instance_attr = line.split()\n",
    "            for attr_index in range(len(attr_names)):\n",
    "                if instance_attr[attr_index] == '?':\n",
    "                    train_dict[attr_names[attr_index]].append(None)\n",
    "                elif attr_type(attr_names[attr_index]) == 'C':\n",
    "                    train_dict[attr_names[attr_index]].append(float(instance_attr[attr_index]))\n",
    "                else:\n",
    "                    train_dict[attr_names[attr_index]].append(int(instance_attr[attr_index]))\n",
    "data = pd.DataFrame(train_dict)\n",
    "data.head()"
   ]
  },
  {
   "cell_type": "markdown",
   "id": "769190b4",
   "metadata": {},
   "source": [
    "<a id='imputing'></a>\n",
    "### Imputing Missing Values\n",
    "We use a SimpleImputer from sklearn to impute average (mean) values for numerical features and most frequent (mode) values for categorical features."
   ]
  },
  {
   "cell_type": "code",
   "execution_count": 7,
   "id": "50359380",
   "metadata": {},
   "outputs": [],
   "source": [
    "# Split the dataset into numerical and categorical features\n",
    "numF, catF = list(), list()\n",
    "for f in data.columns:\n",
    "    if attr_type(f) == \"C\":\n",
    "        numF.append(f)\n",
    "    elif attr_type(f) == \"D\":\n",
    "        catF.append(f)\n",
    "\n",
    "num_df = data[numF]\n",
    "cat_df = data[catF]\n",
    "labels = data['class']"
   ]
  },
  {
   "cell_type": "code",
   "execution_count": 8,
   "id": "252f8ee6",
   "metadata": {
    "scrolled": true
   },
   "outputs": [
    {
     "data": {
      "text/html": [
       "<div>\n",
       "<style scoped>\n",
       "    .dataframe tbody tr th:only-of-type {\n",
       "        vertical-align: middle;\n",
       "    }\n",
       "\n",
       "    .dataframe tbody tr th {\n",
       "        vertical-align: top;\n",
       "    }\n",
       "\n",
       "    .dataframe thead th {\n",
       "        text-align: right;\n",
       "    }\n",
       "</style>\n",
       "<table border=\"1\" class=\"dataframe\">\n",
       "  <thead>\n",
       "    <tr style=\"text-align: right;\">\n",
       "      <th></th>\n",
       "      <th>C1</th>\n",
       "      <th>C2</th>\n",
       "      <th>C3</th>\n",
       "      <th>C4</th>\n",
       "      <th>C5</th>\n",
       "      <th>C6</th>\n",
       "      <th>C7</th>\n",
       "      <th>C8</th>\n",
       "      <th>C9</th>\n",
       "      <th>C10</th>\n",
       "      <th>...</th>\n",
       "      <th>D46</th>\n",
       "      <th>D47</th>\n",
       "      <th>D48</th>\n",
       "      <th>D49</th>\n",
       "      <th>D50</th>\n",
       "      <th>D51</th>\n",
       "      <th>D52</th>\n",
       "      <th>D53</th>\n",
       "      <th>D54</th>\n",
       "      <th>class</th>\n",
       "    </tr>\n",
       "  </thead>\n",
       "  <tbody>\n",
       "    <tr>\n",
       "      <th>0</th>\n",
       "      <td>2002.0</td>\n",
       "      <td>79.0</td>\n",
       "      <td>40.9431</td>\n",
       "      <td>-74.0035</td>\n",
       "      <td>1.0</td>\n",
       "      <td>2.0</td>\n",
       "      <td>2.0</td>\n",
       "      <td>1.0</td>\n",
       "      <td>2.0</td>\n",
       "      <td>1.0</td>\n",
       "      <td>...</td>\n",
       "      <td>0.0</td>\n",
       "      <td>1.0</td>\n",
       "      <td>0.0</td>\n",
       "      <td>0.0</td>\n",
       "      <td>0.0</td>\n",
       "      <td>0.0</td>\n",
       "      <td>0.0</td>\n",
       "      <td>0.0</td>\n",
       "      <td>0.0</td>\n",
       "      <td>0</td>\n",
       "    </tr>\n",
       "    <tr>\n",
       "      <th>1</th>\n",
       "      <td>2004.0</td>\n",
       "      <td>105.0</td>\n",
       "      <td>39.8810</td>\n",
       "      <td>-74.9721</td>\n",
       "      <td>2.0</td>\n",
       "      <td>3.0</td>\n",
       "      <td>2.0</td>\n",
       "      <td>2.0</td>\n",
       "      <td>2.0</td>\n",
       "      <td>1.0</td>\n",
       "      <td>...</td>\n",
       "      <td>0.0</td>\n",
       "      <td>1.0</td>\n",
       "      <td>0.0</td>\n",
       "      <td>0.0</td>\n",
       "      <td>0.0</td>\n",
       "      <td>0.0</td>\n",
       "      <td>0.0</td>\n",
       "      <td>0.0</td>\n",
       "      <td>0.0</td>\n",
       "      <td>0</td>\n",
       "    </tr>\n",
       "    <tr>\n",
       "      <th>2</th>\n",
       "      <td>1999.0</td>\n",
       "      <td>48.0</td>\n",
       "      <td>40.6725</td>\n",
       "      <td>-73.7503</td>\n",
       "      <td>2.0</td>\n",
       "      <td>1.0</td>\n",
       "      <td>2.0</td>\n",
       "      <td>1.0</td>\n",
       "      <td>2.0</td>\n",
       "      <td>2.0</td>\n",
       "      <td>...</td>\n",
       "      <td>0.0</td>\n",
       "      <td>1.0</td>\n",
       "      <td>0.0</td>\n",
       "      <td>0.0</td>\n",
       "      <td>0.0</td>\n",
       "      <td>0.0</td>\n",
       "      <td>0.0</td>\n",
       "      <td>0.0</td>\n",
       "      <td>0.0</td>\n",
       "      <td>0</td>\n",
       "    </tr>\n",
       "    <tr>\n",
       "      <th>3</th>\n",
       "      <td>1996.0</td>\n",
       "      <td>9.0</td>\n",
       "      <td>42.1694</td>\n",
       "      <td>-70.9469</td>\n",
       "      <td>3.0</td>\n",
       "      <td>3.0</td>\n",
       "      <td>4.0</td>\n",
       "      <td>4.0</td>\n",
       "      <td>3.0</td>\n",
       "      <td>1.0</td>\n",
       "      <td>...</td>\n",
       "      <td>0.0</td>\n",
       "      <td>1.0</td>\n",
       "      <td>0.0</td>\n",
       "      <td>0.0</td>\n",
       "      <td>0.0</td>\n",
       "      <td>0.0</td>\n",
       "      <td>0.0</td>\n",
       "      <td>0.0</td>\n",
       "      <td>0.0</td>\n",
       "      <td>0</td>\n",
       "    </tr>\n",
       "    <tr>\n",
       "      <th>4</th>\n",
       "      <td>1994.0</td>\n",
       "      <td>78.0</td>\n",
       "      <td>38.7379</td>\n",
       "      <td>-76.6517</td>\n",
       "      <td>4.0</td>\n",
       "      <td>4.0</td>\n",
       "      <td>4.0</td>\n",
       "      <td>4.0</td>\n",
       "      <td>4.0</td>\n",
       "      <td>1.0</td>\n",
       "      <td>...</td>\n",
       "      <td>0.0</td>\n",
       "      <td>0.0</td>\n",
       "      <td>0.0</td>\n",
       "      <td>0.0</td>\n",
       "      <td>0.0</td>\n",
       "      <td>0.0</td>\n",
       "      <td>0.0</td>\n",
       "      <td>1.0</td>\n",
       "      <td>0.0</td>\n",
       "      <td>1</td>\n",
       "    </tr>\n",
       "  </tbody>\n",
       "</table>\n",
       "<p>5 rows × 206 columns</p>\n",
       "</div>"
      ],
      "text/plain": [
       "       C1     C2       C3       C4   C5   C6   C7   C8   C9  C10  ...  D46  \\\n",
       "0  2002.0   79.0  40.9431 -74.0035  1.0  2.0  2.0  1.0  2.0  1.0  ...  0.0   \n",
       "1  2004.0  105.0  39.8810 -74.9721  2.0  3.0  2.0  2.0  2.0  1.0  ...  0.0   \n",
       "2  1999.0   48.0  40.6725 -73.7503  2.0  1.0  2.0  1.0  2.0  2.0  ...  0.0   \n",
       "3  1996.0    9.0  42.1694 -70.9469  3.0  3.0  4.0  4.0  3.0  1.0  ...  0.0   \n",
       "4  1994.0   78.0  38.7379 -76.6517  4.0  4.0  4.0  4.0  4.0  1.0  ...  0.0   \n",
       "\n",
       "   D47  D48  D49  D50  D51  D52  D53  D54  class  \n",
       "0  1.0  0.0  0.0  0.0  0.0  0.0  0.0  0.0      0  \n",
       "1  1.0  0.0  0.0  0.0  0.0  0.0  0.0  0.0      0  \n",
       "2  1.0  0.0  0.0  0.0  0.0  0.0  0.0  0.0      0  \n",
       "3  1.0  0.0  0.0  0.0  0.0  0.0  0.0  0.0      0  \n",
       "4  0.0  0.0  0.0  0.0  0.0  0.0  1.0  0.0      1  \n",
       "\n",
       "[5 rows x 206 columns]"
      ]
     },
     "execution_count": 8,
     "metadata": {},
     "output_type": "execute_result"
    }
   ],
   "source": [
    "# Impute missing numerical feature values\n",
    "imputer = SimpleImputer(missing_values=np.nan, strategy='mean')\n",
    "num_df = pd.DataFrame(imputer.fit_transform(num_df))\n",
    "num_df.columns = numF\n",
    "\n",
    "# Impute missing categorical feature values\n",
    "imputer = SimpleImputer(missing_values=np.nan, strategy='most_frequent')\n",
    "cat_df = pd.DataFrame(imputer.fit_transform(cat_df))\n",
    "cat_df.columns = catF\n",
    "\n",
    "# Join inputed data tables to recreate data with inputed values\n",
    "data = pd.concat([num_df, cat_df, data['class']], axis=1, join='inner')\n",
    "data.head()"
   ]
  },
  {
   "cell_type": "markdown",
   "id": "837a4998",
   "metadata": {},
   "source": [
    "<a id='correlation'></a>\n",
    "### Selecting Features Based on Correlation\n",
    "We visualize the correlation between features, then remove one of two features that have high correlation. Once we have made our selections, we print how many features remain."
   ]
  },
  {
   "cell_type": "code",
   "execution_count": 9,
   "id": "158b5f41",
   "metadata": {},
   "outputs": [
    {
     "data": {
      "text/plain": [
       "<AxesSubplot:>"
      ]
     },
     "execution_count": 9,
     "metadata": {},
     "output_type": "execute_result"
    },
    {
     "data": {
      "image/png": "[encoded data removed]",
      "text/plain": [
       "<Figure size 432x288 with 2 Axes>"
      ]
     },
     "metadata": {
      "needs_background": "light"
     },
     "output_type": "display_data"
    }
   ],
   "source": [
    "# Generate a heatmap of the correlation matrix of features\n",
    "corr = data.corr()\n",
    "sns.heatmap(corr)"
   ]
  },
  {
   "cell_type": "code",
   "execution_count": 10,
   "id": "164d3b7f",
   "metadata": {},
   "outputs": [
    {
     "name": "stdout",
     "output_type": "stream",
     "text": [
      "(193,)\n"
     ]
    }
   ],
   "source": [
    "# Next, we compare the correlation between features and remove one of two features that have a correlation greater than 0.95\n",
    "num_features = corr.shape[0]\n",
    "columns = np.full((num_features,), True, dtype=bool)\n",
    "corr_thresh = 0.95\n",
    "for i in range(num_features):\n",
    "    for j in range(i+1, num_features):\n",
    "        if corr.iloc[i,j] > corr_thresh:\n",
    "            if columns[j]:\n",
    "                columns[j] = False\n",
    "selected_columns = data.columns[columns]\n",
    "# Print the number of features selected\n",
    "print(selected_columns.shape)\n",
    "# Narrow the dataset to the features selected\n",
    "data = data[selected_columns]"
   ]
  },
  {
   "cell_type": "markdown",
   "id": "abe40f9b",
   "metadata": {},
   "source": [
    "<a id='p-value'></a>\n",
    "### Selecting Columns Based on P-Value\n",
    "We remove features above a certain p-value, as that indicates that the feature does not have enough correlation with the sample class (label). Once we have made our selections, we print how many features remain."
   ]
  },
  {
   "cell_type": "code",
   "execution_count": 11,
   "id": "ec616fbf",
   "metadata": {},
   "outputs": [
    {
     "name": "stdout",
     "output_type": "stream",
     "text": [
      "(79,)\n"
     ]
    }
   ],
   "source": [
    "# Removing the class column\n",
    "selected_columns = selected_columns[:-1].values\n",
    "# Create a function to remove features with p-value greater than a given constant threshold\n",
    "def backwardElimination(x, Y, sl, columns):\n",
    "    num_features = len(x[0])\n",
    "    for i in range(num_features):\n",
    "        regressor_OLS = sm.OLS(Y, x).fit()\n",
    "        max_feature = max(regressor_OLS.pvalues).astype(float)\n",
    "        if max_feature > sl:\n",
    "            for j in range(num_features - i):\n",
    "                if (regressor_OLS.pvalues[j].astype(float) == max_feature):\n",
    "                    x = np.delete(x, j, 1)\n",
    "                    columns = np.delete(columns, j)\n",
    "    return x, columns\n",
    "# Run the function to remove features with p-value greater than 0.075\n",
    "SL = 0.075\n",
    "data_modeled, selected_columns = backwardElimination(data.iloc[:,:-1].values, data.iloc[:,-1].values, SL, selected_columns)\n",
    "# Print the number of columns selected\n",
    "print(selected_columns.shape)\n",
    "# Moving the result to a new dataframe\n",
    "labels = np.array(data['class'])\n",
    "# Creating a dataframe with the columns selected using the p-value and correlation\n",
    "data = pd.DataFrame(data = data_modeled, columns = selected_columns)"
   ]
  },
  {
   "cell_type": "markdown",
   "id": "59bd48b2",
   "metadata": {},
   "source": [
    "<a id='building'></a>\n",
    "## Building the Model\n",
    "We now build a predictive model using the features we selected in the previous steps. This involves both training the model and verifying that it functions properly using a test set. Before we begin, we must split the dataset into a train set and test set."
   ]
  },
  {
   "cell_type": "code",
   "execution_count": 12,
   "id": "f9e909c4",
   "metadata": {},
   "outputs": [],
   "source": [
    "# Split the data into training and testing sets\n",
    "data = np.array(data)\n",
    "train_features, test_features, train_labels, test_labels = train_test_split(data, labels, test_size = 0.20)"
   ]
  },
  {
   "cell_type": "markdown",
   "id": "e7bfb62a",
   "metadata": {},
   "source": [
    "<a id='training'></a>\n",
    "### Training on Data\n",
    "We train a Random Forest classifier with the train set."
   ]
  },
  {
   "cell_type": "code",
   "execution_count": 13,
   "id": "e33ce202",
   "metadata": {},
   "outputs": [
    {
     "data": {
      "text/plain": [
       "RandomForestRegressor(random_state=42)"
      ]
     },
     "execution_count": 13,
     "metadata": {},
     "output_type": "execute_result"
    }
   ],
   "source": [
    "# Set random state in order to ensure reproducibility of results\n",
    "rf = RandomForestRegressor(n_estimators = 100, random_state = 42)\n",
    "rf.fit(train_features, train_labels)"
   ]
  },
  {
   "cell_type": "markdown",
   "id": "f5214cf8",
   "metadata": {},
   "source": [
    "<a id='accuracy'></a>\n",
    "### Calculating Accuracy\n",
    "To calculate accuracy, we predict the labels for samples in the test set. Then, we calculate the percentage of labels predicted corrected."
   ]
  },
  {
   "cell_type": "code",
   "execution_count": 14,
   "id": "e796c258",
   "metadata": {},
   "outputs": [
    {
     "name": "stdout",
     "output_type": "stream",
     "text": [
      "Accuracy: 0.7739\n"
     ]
    }
   ],
   "source": [
    "# Use the classifier's predict method on the test data\n",
    "predictions = rf.predict(test_features)\n",
    "predictions = np.round(predictions)\n",
    "# Calculate the absolute errors\n",
    "errors = 1.0 - abs(predictions - test_labels)\n",
    "# Print out the mean absolute error\n",
    "print('Accuracy:', str('{:.4f}'.format(round(np.mean(errors), 4))))"
   ]
  }
 ],
 "metadata": {
  "kernelspec": {
   "display_name": "Python 3 (ipykernel)",
   "language": "python",
   "name": "python3"
  },
  "language_info": {
   "codemirror_mode": {
    "name": "ipython",
    "version": 3
   },
   "file_extension": ".py",
   "mimetype": "text/x-python",
   "name": "python",
   "nbconvert_exporter": "python",
   "pygments_lexer": "ipython3",
   "version": "3.9.7"
  }
 },
 "nbformat": 4,
 "nbformat_minor": 5
}
